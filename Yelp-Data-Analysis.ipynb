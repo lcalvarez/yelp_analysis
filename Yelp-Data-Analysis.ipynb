{
 "cells": [
  {
   "cell_type": "markdown",
   "metadata": {},
   "source": [
    "# Goal\n",
    "- The yelp database contains the following information on businesses:\n",
    "  - Business information such as location, reviews, number of reviews\n",
    "  - Distinct reviews for each business from individual users\n",
    "  - Users each with their own metadata\n",
    "  - Tips containing user's feedback for other customers regarding businesses\n",
    "  - Checkins indicating the number of times a user has checked into a business\n",
    "  - Photos containing a caption and a label; many for individual businesses\n",
    "  \n",
    "- We can use this information to explore if any of these characteristics are\n",
    "  associated with high risk businesses, as indicated by a lower yelp review.\n",
    "  After exploring the data, we can create a simple model that attempts to\n",
    "  identify the internal risk associated with a business.\n",
    "  \n",
    "## Conclusion\n",
    "- We gather the following data points from the raw data:\n",
    "  - Business review\n",
    "  - Number of reviews\n",
    "  - Time/duration since first review as a proxy for length of time business has been open\n",
    "  - Variability of reviews using standard deviation\n",
    "  - Total number of checkins, tips, and photos\n",
    "- We then look at a correlation coefficient matrix and observe that higher risk businesses\n",
    "  as indicated by a low review scores show a non-trivial correlation to variable customer\n",
    "  experiences. Other features also show intra-correlation.\n",
    "- Lastly we build a simple supervised binary classification model with random forests to\n",
    "  predict the riskiness of a business given a set of features with 69% generalization error.\n",
    "  Next steps are present in the analysis below at the very end since this is just an initial\n",
    "  value and more work is needed to be rigorous."
   ]
  },
  {
   "cell_type": "markdown",
   "metadata": {},
   "source": [
    "## ----------------------------------------------------------------------------------------------------------------------------------"
   ]
  },
  {
   "cell_type": "markdown",
   "metadata": {},
   "source": [
    "# Imports and Setup"
   ]
  },
  {
   "cell_type": "code",
   "execution_count": 9,
   "metadata": {},
   "outputs": [],
   "source": [
    "import pymongo\n",
    "import numpy as np\n",
    "import pandas as pd\n",
    "import datetime\n",
    "import matplotlib.pyplot as plt\n",
    "from collections import defaultdict\n",
    "from sklearn.svm import SVC\n",
    "from sklearn.linear_model import LogisticRegression\n",
    "from sklearn.ensemble import RandomForestClassifier"
   ]
  },
  {
   "cell_type": "code",
   "execution_count": 10,
   "metadata": {},
   "outputs": [],
   "source": [
    "client = pymongo.MongoClient('mongodb://localhost:27017/')\n",
    "db = client.public"
   ]
  },
  {
   "cell_type": "markdown",
   "metadata": {},
   "source": [
    "## Utility functions"
   ]
  },
  {
   "cell_type": "code",
   "execution_count": 11,
   "metadata": {},
   "outputs": [],
   "source": [
    "def get_data(cursor):\n",
    "    # Use list comprehension to obtain list of dictionary for cursor\n",
    "    return [val for val in cursor]\n",
    "\n",
    "def get_checkins(cursor):\n",
    "    # Iterate over values and count the number of 'date' entries indicating\n",
    "    # the total number of checkins a business has received\n",
    "    data = []\n",
    "    for val in cursor:\n",
    "        if val['date'] is None or val['date'] == '':\n",
    "            checkins = 0\n",
    "        else:\n",
    "            checkins = len(val['date'].split(','))\n",
    "        data.append([val['business_id'], checkins])\n",
    "    return data"
   ]
  },
  {
   "cell_type": "markdown",
   "metadata": {},
   "source": [
    "# Data Gathering"
   ]
  },
  {
   "cell_type": "markdown",
   "metadata": {},
   "source": [
    "## Review and review count for business\n",
    "#### First grab the review and the number of reviews for all businesses that _are open_. We suspect that very risky businesses and very safe businesses may have the highest number of reviews, in general. We use the 'review' as a proxy for the risk associated with insuring a business. We assign any business with a review greater than 3 as LOW risk, or 0. Any business with 3 or lower is HIGH risk. We include 3 because it will make the model more conservative in general."
   ]
  },
  {
   "cell_type": "code",
   "execution_count": 12,
   "metadata": {},
   "outputs": [
    {
     "data": {
      "text/html": [
       "<div>\n",
       "<style scoped>\n",
       "    .dataframe tbody tr th:only-of-type {\n",
       "        vertical-align: middle;\n",
       "    }\n",
       "\n",
       "    .dataframe tbody tr th {\n",
       "        vertical-align: top;\n",
       "    }\n",
       "\n",
       "    .dataframe thead th {\n",
       "        text-align: right;\n",
       "    }\n",
       "</style>\n",
       "<table border=\"1\" class=\"dataframe\">\n",
       "  <thead>\n",
       "    <tr style=\"text-align: right;\">\n",
       "      <th></th>\n",
       "      <th>business_id</th>\n",
       "      <th>stars</th>\n",
       "      <th>review_count</th>\n",
       "      <th>risk_rating</th>\n",
       "    </tr>\n",
       "  </thead>\n",
       "  <tbody>\n",
       "    <tr>\n",
       "      <th>0</th>\n",
       "      <td>QXAEGFB4oINsVuTFxEYKFQ</td>\n",
       "      <td>2.5</td>\n",
       "      <td>128</td>\n",
       "      <td>1</td>\n",
       "    </tr>\n",
       "    <tr>\n",
       "      <th>1</th>\n",
       "      <td>xvX2CttrVhyG2z1dFg_0xw</td>\n",
       "      <td>5.0</td>\n",
       "      <td>3</td>\n",
       "      <td>0</td>\n",
       "    </tr>\n",
       "  </tbody>\n",
       "</table>\n",
       "</div>"
      ],
      "text/plain": [
       "              business_id  stars  review_count  risk_rating\n",
       "0  QXAEGFB4oINsVuTFxEYKFQ    2.5           128            1\n",
       "1  xvX2CttrVhyG2z1dFg_0xw    5.0             3            0"
      ]
     },
     "execution_count": 12,
     "metadata": {},
     "output_type": "execute_result"
    }
   ],
   "source": [
    "cursor = db.business.find({'is_open': 1}, {'business_id': 1, 'stars':1, 'review_count': 1, '_id': 0})\n",
    "data = get_data(cursor)\n",
    "result = pd.DataFrame(data)\n",
    "# Create a risk rating of 0 for stars greater than 3 else put a 1. We will map these to HIGH and LOW risk.\n",
    "result['risk_rating'] = [0 if val > 3 else 1 for val in result['stars']]\n",
    "result[:2]"
   ]
  },
  {
   "cell_type": "code",
   "execution_count": 13,
   "metadata": {},
   "outputs": [
    {
     "name": "stdout",
     "output_type": "stream",
     "text": [
      "Current number of systems in resultant dataset: 158525\n"
     ]
    }
   ],
   "source": [
    "print('Current number of systems in resultant dataset: {}'.format(len(result)))"
   ]
  },
  {
   "cell_type": "markdown",
   "metadata": {},
   "source": [
    "## Duration since first review\n",
    "#### We can use the review information to retrieve the duration since first review as a proxy for the length of time the business has been open. Businesses that have been open longer may be considered less risky. We calculate the duration the business has been open in days and store that in our dataset since we will use that to normalize the cumulative fields."
   ]
  },
  {
   "cell_type": "code",
   "execution_count": 14,
   "metadata": {},
   "outputs": [],
   "source": [
    "cursor = db.review.aggregate([ {\"$group\" : {\"_id\":\"$business_id\", \"first_review\":{\"$min\":\"$date\"}}} ])\n",
    "data = get_data(cursor)\n",
    "data = pd.DataFrame(data).rename(columns={'_id':'business_id'})\n",
    "\n",
    "# Calculate the duration since first review\n",
    "analysis_date = pd.Timestamp(datetime.date(2020, 3, 12))\n",
    "data['first_review'] = [pd.to_datetime(val) for val in data['first_review']]\n",
    "data['duration'] = [(analysis_date - val).days for val in data['first_review']]"
   ]
  },
  {
   "cell_type": "code",
   "execution_count": 15,
   "metadata": {},
   "outputs": [
    {
     "data": {
      "text/html": [
       "<div>\n",
       "<style scoped>\n",
       "    .dataframe tbody tr th:only-of-type {\n",
       "        vertical-align: middle;\n",
       "    }\n",
       "\n",
       "    .dataframe tbody tr th {\n",
       "        vertical-align: top;\n",
       "    }\n",
       "\n",
       "    .dataframe thead th {\n",
       "        text-align: right;\n",
       "    }\n",
       "</style>\n",
       "<table border=\"1\" class=\"dataframe\">\n",
       "  <thead>\n",
       "    <tr style=\"text-align: right;\">\n",
       "      <th></th>\n",
       "      <th>business_id</th>\n",
       "      <th>stars</th>\n",
       "      <th>review_count</th>\n",
       "      <th>risk_rating</th>\n",
       "      <th>first_review</th>\n",
       "      <th>duration</th>\n",
       "    </tr>\n",
       "  </thead>\n",
       "  <tbody>\n",
       "    <tr>\n",
       "      <th>0</th>\n",
       "      <td>QXAEGFB4oINsVuTFxEYKFQ</td>\n",
       "      <td>2.5</td>\n",
       "      <td>0.032177</td>\n",
       "      <td>1</td>\n",
       "      <td>2009-04-20 00:58:34</td>\n",
       "      <td>3978</td>\n",
       "    </tr>\n",
       "    <tr>\n",
       "      <th>1</th>\n",
       "      <td>xvX2CttrVhyG2z1dFg_0xw</td>\n",
       "      <td>5.0</td>\n",
       "      <td>0.001142</td>\n",
       "      <td>0</td>\n",
       "      <td>2013-01-01 18:06:38</td>\n",
       "      <td>2626</td>\n",
       "    </tr>\n",
       "  </tbody>\n",
       "</table>\n",
       "</div>"
      ],
      "text/plain": [
       "              business_id  stars  review_count  risk_rating  \\\n",
       "0  QXAEGFB4oINsVuTFxEYKFQ    2.5      0.032177            1   \n",
       "1  xvX2CttrVhyG2z1dFg_0xw    5.0      0.001142            0   \n",
       "\n",
       "         first_review  duration  \n",
       "0 2009-04-20 00:58:34      3978  \n",
       "1 2013-01-01 18:06:38      2626  "
      ]
     },
     "execution_count": 15,
     "metadata": {},
     "output_type": "execute_result"
    }
   ],
   "source": [
    "result = pd.merge(result, data, on='business_id') # Every business should have a review\n",
    "# Normalize review count to the duration\n",
    "result['review_count'] = result['review_count']/result['duration']\n",
    "result[:2]"
   ]
  },
  {
   "cell_type": "code",
   "execution_count": 16,
   "metadata": {},
   "outputs": [
    {
     "name": "stdout",
     "output_type": "stream",
     "text": [
      "Current number of systems in resultant dataset: 158522\n"
     ]
    }
   ],
   "source": [
    "print('Current number of systems in resultant dataset: {}'.format(len(result)))"
   ]
  },
  {
   "cell_type": "markdown",
   "metadata": {},
   "source": [
    "## Variability of reviews\n",
    "#### We compute the standard deviation of the reviews as a measure of the volatility of an individual user experience at a business. The more volatile the experience is for a customer, the riskier the business may be to insure. We also note that a variability of 0 should be reflected as a null since this will happen where a business has only one review."
   ]
  },
  {
   "cell_type": "code",
   "execution_count": 17,
   "metadata": {},
   "outputs": [],
   "source": [
    "cursor = db.review.aggregate([ {\"$group\" : {\"_id\":\"$business_id\", \"std_dev\":{\"$stdDevSamp\":\"$stars\"}}} ])\n",
    "data = get_data(cursor)\n",
    "data = pd.DataFrame(data).rename(columns={'_id':'business_id'})"
   ]
  },
  {
   "cell_type": "code",
   "execution_count": 18,
   "metadata": {},
   "outputs": [
    {
     "data": {
      "text/html": [
       "<div>\n",
       "<style scoped>\n",
       "    .dataframe tbody tr th:only-of-type {\n",
       "        vertical-align: middle;\n",
       "    }\n",
       "\n",
       "    .dataframe tbody tr th {\n",
       "        vertical-align: top;\n",
       "    }\n",
       "\n",
       "    .dataframe thead th {\n",
       "        text-align: right;\n",
       "    }\n",
       "</style>\n",
       "<table border=\"1\" class=\"dataframe\">\n",
       "  <thead>\n",
       "    <tr style=\"text-align: right;\">\n",
       "      <th></th>\n",
       "      <th>business_id</th>\n",
       "      <th>stars</th>\n",
       "      <th>review_count</th>\n",
       "      <th>risk_rating</th>\n",
       "      <th>first_review</th>\n",
       "      <th>duration</th>\n",
       "      <th>std_dev</th>\n",
       "    </tr>\n",
       "  </thead>\n",
       "  <tbody>\n",
       "    <tr>\n",
       "      <th>0</th>\n",
       "      <td>QXAEGFB4oINsVuTFxEYKFQ</td>\n",
       "      <td>2.5</td>\n",
       "      <td>0.032177</td>\n",
       "      <td>1</td>\n",
       "      <td>2009-04-20 00:58:34</td>\n",
       "      <td>3978</td>\n",
       "      <td>1.297361</td>\n",
       "    </tr>\n",
       "    <tr>\n",
       "      <th>1</th>\n",
       "      <td>xvX2CttrVhyG2z1dFg_0xw</td>\n",
       "      <td>5.0</td>\n",
       "      <td>0.001142</td>\n",
       "      <td>0</td>\n",
       "      <td>2013-01-01 18:06:38</td>\n",
       "      <td>2626</td>\n",
       "      <td>0.000000</td>\n",
       "    </tr>\n",
       "  </tbody>\n",
       "</table>\n",
       "</div>"
      ],
      "text/plain": [
       "              business_id  stars  review_count  risk_rating  \\\n",
       "0  QXAEGFB4oINsVuTFxEYKFQ    2.5      0.032177            1   \n",
       "1  xvX2CttrVhyG2z1dFg_0xw    5.0      0.001142            0   \n",
       "\n",
       "         first_review  duration   std_dev  \n",
       "0 2009-04-20 00:58:34      3978  1.297361  \n",
       "1 2013-01-01 18:06:38      2626  0.000000  "
      ]
     },
     "execution_count": 18,
     "metadata": {},
     "output_type": "execute_result"
    }
   ],
   "source": [
    "result = pd.merge(result, data, on='business_id') # Every business should have a review\n",
    "result[:2]"
   ]
  },
  {
   "cell_type": "code",
   "execution_count": 19,
   "metadata": {},
   "outputs": [
    {
     "name": "stdout",
     "output_type": "stream",
     "text": [
      "Current number of systems in resultant dataset: 158522\n"
     ]
    }
   ],
   "source": [
    "print('Current number of systems in resultant dataset: {}'.format(len(result)))"
   ]
  },
  {
   "cell_type": "markdown",
   "metadata": {},
   "source": [
    "## Total Number of checkins\n",
    "#### The total number of checkins will give us a measure of relative popularity. We would expect more popular and therefore generally less risky businesses to have more checkins on a consistent basis."
   ]
  },
  {
   "cell_type": "code",
   "execution_count": 20,
   "metadata": {},
   "outputs": [],
   "source": [
    "cursor = db.checkin.find({}, {'business_id': 1, 'date': 1, '_id': 0})\n",
    "data = get_checkins(cursor)\n",
    "data = pd.DataFrame(data, columns=['business_id', 'checkins'])"
   ]
  },
  {
   "cell_type": "code",
   "execution_count": 21,
   "metadata": {},
   "outputs": [
    {
     "data": {
      "text/html": [
       "<div>\n",
       "<style scoped>\n",
       "    .dataframe tbody tr th:only-of-type {\n",
       "        vertical-align: middle;\n",
       "    }\n",
       "\n",
       "    .dataframe tbody tr th {\n",
       "        vertical-align: top;\n",
       "    }\n",
       "\n",
       "    .dataframe thead th {\n",
       "        text-align: right;\n",
       "    }\n",
       "</style>\n",
       "<table border=\"1\" class=\"dataframe\">\n",
       "  <thead>\n",
       "    <tr style=\"text-align: right;\">\n",
       "      <th></th>\n",
       "      <th>business_id</th>\n",
       "      <th>stars</th>\n",
       "      <th>review_count</th>\n",
       "      <th>risk_rating</th>\n",
       "      <th>first_review</th>\n",
       "      <th>duration</th>\n",
       "      <th>std_dev</th>\n",
       "      <th>checkins</th>\n",
       "    </tr>\n",
       "  </thead>\n",
       "  <tbody>\n",
       "    <tr>\n",
       "      <th>0</th>\n",
       "      <td>QXAEGFB4oINsVuTFxEYKFQ</td>\n",
       "      <td>2.5</td>\n",
       "      <td>0.032177</td>\n",
       "      <td>1</td>\n",
       "      <td>2009-04-20 00:58:34</td>\n",
       "      <td>3978</td>\n",
       "      <td>1.297361</td>\n",
       "      <td>0.114379</td>\n",
       "    </tr>\n",
       "    <tr>\n",
       "      <th>1</th>\n",
       "      <td>xvX2CttrVhyG2z1dFg_0xw</td>\n",
       "      <td>5.0</td>\n",
       "      <td>0.001142</td>\n",
       "      <td>0</td>\n",
       "      <td>2013-01-01 18:06:38</td>\n",
       "      <td>2626</td>\n",
       "      <td>0.000000</td>\n",
       "      <td>0.004189</td>\n",
       "    </tr>\n",
       "  </tbody>\n",
       "</table>\n",
       "</div>"
      ],
      "text/plain": [
       "              business_id  stars  review_count  risk_rating  \\\n",
       "0  QXAEGFB4oINsVuTFxEYKFQ    2.5      0.032177            1   \n",
       "1  xvX2CttrVhyG2z1dFg_0xw    5.0      0.001142            0   \n",
       "\n",
       "         first_review  duration   std_dev  checkins  \n",
       "0 2009-04-20 00:58:34      3978  1.297361  0.114379  \n",
       "1 2013-01-01 18:06:38      2626  0.000000  0.004189  "
      ]
     },
     "execution_count": 21,
     "metadata": {},
     "output_type": "execute_result"
    }
   ],
   "source": [
    "result = pd.merge(result, data, on='business_id', how='left') # Not every business may have a checkin\n",
    "result['checkins'] = result['checkins']/result['duration']\n",
    "result[:2]"
   ]
  },
  {
   "cell_type": "code",
   "execution_count": 22,
   "metadata": {},
   "outputs": [
    {
     "name": "stdout",
     "output_type": "stream",
     "text": [
      "Current number of systems in resultant dataset: 158522\n"
     ]
    }
   ],
   "source": [
    "print('Current number of systems in resultant dataset: {}'.format(len(result)))"
   ]
  },
  {
   "cell_type": "markdown",
   "metadata": {},
   "source": [
    "## Total number of tips\n",
    "#### The total number of tips should also indicate another measure of relative popularity and strength for a business."
   ]
  },
  {
   "cell_type": "code",
   "execution_count": 23,
   "metadata": {},
   "outputs": [],
   "source": [
    "cursor = db.tip.aggregate([ {\"$group\" : {\"_id\":\"$business_id\", \"tips\":{\"$sum\":1}}} ])\n",
    "data = get_data(cursor)\n",
    "data = pd.DataFrame(data).rename(columns={'_id':'business_id'})"
   ]
  },
  {
   "cell_type": "code",
   "execution_count": 24,
   "metadata": {},
   "outputs": [
    {
     "data": {
      "text/html": [
       "<div>\n",
       "<style scoped>\n",
       "    .dataframe tbody tr th:only-of-type {\n",
       "        vertical-align: middle;\n",
       "    }\n",
       "\n",
       "    .dataframe tbody tr th {\n",
       "        vertical-align: top;\n",
       "    }\n",
       "\n",
       "    .dataframe thead th {\n",
       "        text-align: right;\n",
       "    }\n",
       "</style>\n",
       "<table border=\"1\" class=\"dataframe\">\n",
       "  <thead>\n",
       "    <tr style=\"text-align: right;\">\n",
       "      <th></th>\n",
       "      <th>business_id</th>\n",
       "      <th>stars</th>\n",
       "      <th>review_count</th>\n",
       "      <th>risk_rating</th>\n",
       "      <th>first_review</th>\n",
       "      <th>duration</th>\n",
       "      <th>std_dev</th>\n",
       "      <th>checkins</th>\n",
       "      <th>tips</th>\n",
       "    </tr>\n",
       "  </thead>\n",
       "  <tbody>\n",
       "    <tr>\n",
       "      <th>0</th>\n",
       "      <td>QXAEGFB4oINsVuTFxEYKFQ</td>\n",
       "      <td>2.5</td>\n",
       "      <td>0.032177</td>\n",
       "      <td>1</td>\n",
       "      <td>2009-04-20 00:58:34</td>\n",
       "      <td>3978</td>\n",
       "      <td>1.297361</td>\n",
       "      <td>0.114379</td>\n",
       "      <td>0.00553</td>\n",
       "    </tr>\n",
       "    <tr>\n",
       "      <th>1</th>\n",
       "      <td>xvX2CttrVhyG2z1dFg_0xw</td>\n",
       "      <td>5.0</td>\n",
       "      <td>0.001142</td>\n",
       "      <td>0</td>\n",
       "      <td>2013-01-01 18:06:38</td>\n",
       "      <td>2626</td>\n",
       "      <td>0.000000</td>\n",
       "      <td>0.004189</td>\n",
       "      <td>NaN</td>\n",
       "    </tr>\n",
       "  </tbody>\n",
       "</table>\n",
       "</div>"
      ],
      "text/plain": [
       "              business_id  stars  review_count  risk_rating  \\\n",
       "0  QXAEGFB4oINsVuTFxEYKFQ    2.5      0.032177            1   \n",
       "1  xvX2CttrVhyG2z1dFg_0xw    5.0      0.001142            0   \n",
       "\n",
       "         first_review  duration   std_dev  checkins     tips  \n",
       "0 2009-04-20 00:58:34      3978  1.297361  0.114379  0.00553  \n",
       "1 2013-01-01 18:06:38      2626  0.000000  0.004189      NaN  "
      ]
     },
     "execution_count": 24,
     "metadata": {},
     "output_type": "execute_result"
    }
   ],
   "source": [
    "result = pd.merge(result, data, on='business_id', how='left') # Not every business will have a tip\n",
    "result['tips'] = result['tips']/result['duration']\n",
    "result[:2]"
   ]
  },
  {
   "cell_type": "code",
   "execution_count": 25,
   "metadata": {},
   "outputs": [
    {
     "name": "stdout",
     "output_type": "stream",
     "text": [
      "Current number of systems in resultant dataset: 158522\n"
     ]
    }
   ],
   "source": [
    "print('Current number of systems in resultant dataset: {}'.format(len(result)))"
   ]
  },
  {
   "cell_type": "markdown",
   "metadata": {},
   "source": [
    "## Total number of photos\n",
    "#### The total number of photos may be associated with either very risky or very safe businesses."
   ]
  },
  {
   "cell_type": "code",
   "execution_count": 26,
   "metadata": {},
   "outputs": [],
   "source": [
    "cursor = db.photo.aggregate([ {\"$group\" : {\"_id\":\"$business_id\", \"photos\":{\"$sum\":1}}} ])\n",
    "data = get_data(cursor)\n",
    "data = pd.DataFrame(data).rename(columns={'_id':'business_id'})"
   ]
  },
  {
   "cell_type": "code",
   "execution_count": 27,
   "metadata": {},
   "outputs": [
    {
     "data": {
      "text/html": [
       "<div>\n",
       "<style scoped>\n",
       "    .dataframe tbody tr th:only-of-type {\n",
       "        vertical-align: middle;\n",
       "    }\n",
       "\n",
       "    .dataframe tbody tr th {\n",
       "        vertical-align: top;\n",
       "    }\n",
       "\n",
       "    .dataframe thead th {\n",
       "        text-align: right;\n",
       "    }\n",
       "</style>\n",
       "<table border=\"1\" class=\"dataframe\">\n",
       "  <thead>\n",
       "    <tr style=\"text-align: right;\">\n",
       "      <th></th>\n",
       "      <th>business_id</th>\n",
       "      <th>stars</th>\n",
       "      <th>review_count</th>\n",
       "      <th>risk_rating</th>\n",
       "      <th>first_review</th>\n",
       "      <th>duration</th>\n",
       "      <th>std_dev</th>\n",
       "      <th>checkins</th>\n",
       "      <th>tips</th>\n",
       "      <th>photos</th>\n",
       "    </tr>\n",
       "  </thead>\n",
       "  <tbody>\n",
       "    <tr>\n",
       "      <th>0</th>\n",
       "      <td>QXAEGFB4oINsVuTFxEYKFQ</td>\n",
       "      <td>2.5</td>\n",
       "      <td>0.032177</td>\n",
       "      <td>1</td>\n",
       "      <td>2009-04-20 00:58:34</td>\n",
       "      <td>3978</td>\n",
       "      <td>1.297361</td>\n",
       "      <td>0.114379</td>\n",
       "      <td>0.00553</td>\n",
       "      <td>0.000754</td>\n",
       "    </tr>\n",
       "    <tr>\n",
       "      <th>1</th>\n",
       "      <td>xvX2CttrVhyG2z1dFg_0xw</td>\n",
       "      <td>5.0</td>\n",
       "      <td>0.001142</td>\n",
       "      <td>0</td>\n",
       "      <td>2013-01-01 18:06:38</td>\n",
       "      <td>2626</td>\n",
       "      <td>0.000000</td>\n",
       "      <td>0.004189</td>\n",
       "      <td>NaN</td>\n",
       "      <td>NaN</td>\n",
       "    </tr>\n",
       "  </tbody>\n",
       "</table>\n",
       "</div>"
      ],
      "text/plain": [
       "              business_id  stars  review_count  risk_rating  \\\n",
       "0  QXAEGFB4oINsVuTFxEYKFQ    2.5      0.032177            1   \n",
       "1  xvX2CttrVhyG2z1dFg_0xw    5.0      0.001142            0   \n",
       "\n",
       "         first_review  duration   std_dev  checkins     tips    photos  \n",
       "0 2009-04-20 00:58:34      3978  1.297361  0.114379  0.00553  0.000754  \n",
       "1 2013-01-01 18:06:38      2626  0.000000  0.004189      NaN       NaN  "
      ]
     },
     "execution_count": 27,
     "metadata": {},
     "output_type": "execute_result"
    }
   ],
   "source": [
    "result = pd.merge(result, data, on='business_id', how='left') # Not every business will have a photo\n",
    "result['photos'] = result['photos']/result['duration']\n",
    "result[:2]"
   ]
  },
  {
   "cell_type": "code",
   "execution_count": 28,
   "metadata": {},
   "outputs": [
    {
     "name": "stdout",
     "output_type": "stream",
     "text": [
      "Current number of systems in resultant dataset: 158522\n"
     ]
    }
   ],
   "source": [
    "print('Current number of systems in resultant dataset: {}'.format(len(result)))"
   ]
  },
  {
   "cell_type": "markdown",
   "metadata": {},
   "source": [
    "# Analysis"
   ]
  },
  {
   "cell_type": "code",
   "execution_count": 29,
   "metadata": {},
   "outputs": [
    {
     "data": {
      "text/html": [
       "<div>\n",
       "<style scoped>\n",
       "    .dataframe tbody tr th:only-of-type {\n",
       "        vertical-align: middle;\n",
       "    }\n",
       "\n",
       "    .dataframe tbody tr th {\n",
       "        vertical-align: top;\n",
       "    }\n",
       "\n",
       "    .dataframe thead th {\n",
       "        text-align: right;\n",
       "    }\n",
       "</style>\n",
       "<table border=\"1\" class=\"dataframe\">\n",
       "  <thead>\n",
       "    <tr style=\"text-align: right;\">\n",
       "      <th></th>\n",
       "      <th>risk_rating</th>\n",
       "      <th>review_count</th>\n",
       "      <th>std_dev</th>\n",
       "      <th>checkins</th>\n",
       "      <th>tips</th>\n",
       "      <th>photos</th>\n",
       "    </tr>\n",
       "  </thead>\n",
       "  <tbody>\n",
       "    <tr>\n",
       "      <th>0</th>\n",
       "      <td>1</td>\n",
       "      <td>0.032177</td>\n",
       "      <td>1.297361</td>\n",
       "      <td>0.114379</td>\n",
       "      <td>0.005530</td>\n",
       "      <td>0.000754</td>\n",
       "    </tr>\n",
       "    <tr>\n",
       "      <th>1</th>\n",
       "      <td>0</td>\n",
       "      <td>0.001142</td>\n",
       "      <td>0.000000</td>\n",
       "      <td>0.004189</td>\n",
       "      <td>0.000000</td>\n",
       "      <td>0.000000</td>\n",
       "    </tr>\n",
       "    <tr>\n",
       "      <th>2</th>\n",
       "      <td>0</td>\n",
       "      <td>0.001905</td>\n",
       "      <td>2.000000</td>\n",
       "      <td>0.000000</td>\n",
       "      <td>0.000000</td>\n",
       "      <td>0.000000</td>\n",
       "    </tr>\n",
       "    <tr>\n",
       "      <th>3</th>\n",
       "      <td>1</td>\n",
       "      <td>0.001343</td>\n",
       "      <td>1.527525</td>\n",
       "      <td>0.001343</td>\n",
       "      <td>0.000448</td>\n",
       "      <td>0.000000</td>\n",
       "    </tr>\n",
       "    <tr>\n",
       "      <th>4</th>\n",
       "      <td>0</td>\n",
       "      <td>0.001298</td>\n",
       "      <td>2.309401</td>\n",
       "      <td>0.004758</td>\n",
       "      <td>0.000000</td>\n",
       "      <td>0.000000</td>\n",
       "    </tr>\n",
       "  </tbody>\n",
       "</table>\n",
       "</div>"
      ],
      "text/plain": [
       "   risk_rating  review_count   std_dev  checkins      tips    photos\n",
       "0            1      0.032177  1.297361  0.114379  0.005530  0.000754\n",
       "1            0      0.001142  0.000000  0.004189  0.000000  0.000000\n",
       "2            0      0.001905  2.000000  0.000000  0.000000  0.000000\n",
       "3            1      0.001343  1.527525  0.001343  0.000448  0.000000\n",
       "4            0      0.001298  2.309401  0.004758  0.000000  0.000000"
      ]
     },
     "execution_count": 29,
     "metadata": {},
     "output_type": "execute_result"
    }
   ],
   "source": [
    "result = result.fillna(0)\n",
    "analysis_data = result[['risk_rating' ,'review_count', 'std_dev', 'checkins', 'tips', 'photos']]\n",
    "analysis_data[:5]"
   ]
  },
  {
   "cell_type": "markdown",
   "metadata": {},
   "source": [
    "### Let's look at the correlation matrix between every individual category against each other. The output will be the correlation coefficient and is a symmetric matrix so values below the diagonal can be ignored."
   ]
  },
  {
   "cell_type": "code",
   "execution_count": 49,
   "metadata": {},
   "outputs": [
    {
     "data": {
      "text/plain": [
       "<matplotlib.colorbar.Colorbar at 0x7f6a0b603eb8>"
      ]
     },
     "execution_count": 49,
     "metadata": {},
     "output_type": "execute_result"
    },
    {
     "data": {
      "image/png": "[encoded data removed]",
      "text/plain": [
       "<Figure size 720x720 with 2 Axes>"
      ]
     },
     "metadata": {
      "needs_background": "light"
     },
     "output_type": "display_data"
    }
   ],
   "source": [
    "plt.figure(figsize=(10, 10))\n",
    "plt.matshow(analysis_data.corr(), fignum=1)\n",
    "plt.xticks(range(len(analysis_data.columns)), analysis_data.columns)\n",
    "plt.yticks(range(len(analysis_data.columns)), analysis_data.columns)\n",
    "plt.colorbar()"
   ]
  },
  {
   "cell_type": "markdown",
   "metadata": {},
   "source": [
    "The results above seem to show that only one feature, namely the variability of a customer's experience is indicative of somewhat of a _linear_ correlation. Perhaps this indicates that a higher variability in customer experience also increases the internal risk of insuring a business? It also seems that the review count is strong correlated with the number of check ins, the number of tips and the number of photos; that seems to make sense even for high and low risk businesses."
   ]
  },
  {
   "cell_type": "markdown",
   "metadata": {},
   "source": [
    "## Building a simple supervised model\n",
    "#### We can attempt to build a supervised model with our training that will output the risk of a business given the above feature set. A score of 1 is HIGH risk and a score of 0 is LOW risk. This amounts to a classification task. We use a random forest classifier since we have features that are non-trivially correlated with each other. The random forest classifier is a class of decision tree models where we can think of the result as a series of yes/no questions asked about our data eventually leading to a predicted class."
   ]
  },
  {
   "cell_type": "code",
   "execution_count": 50,
   "metadata": {},
   "outputs": [],
   "source": [
    "labels = analysis_data['risk_rating']\n",
    "features = analysis_data[['review_count', 'std_dev', 'checkins', 'tips', 'photos']]"
   ]
  },
  {
   "cell_type": "code",
   "execution_count": 51,
   "metadata": {},
   "outputs": [],
   "source": [
    "# Train on 80% data, Test on 20% data\n",
    "coefficient = 0.8\n",
    "index = int(len(labels)*coefficient)\n",
    "train_labels, test_labels = labels[:index], labels[index+1:]\n",
    "train_features, test_features = features[:index], features[index+1:]\n",
    "\n",
    "fit = RandomForestClassifier(random_state=0).fit(train_features, train_labels)"
   ]
  },
  {
   "cell_type": "code",
   "execution_count": 52,
   "metadata": {},
   "outputs": [
    {
     "data": {
      "text/plain": [
       "0.6896606106484986"
      ]
     },
     "execution_count": 52,
     "metadata": {},
     "output_type": "execute_result"
    }
   ],
   "source": [
    "fit.score(test_features, test_labels)"
   ]
  },
  {
   "cell_type": "markdown",
   "metadata": {},
   "source": [
    "## Next steps to enrich the analysis\n",
    "- Enrich feature engineering (create more features from the data)\n",
    "- Explore data with more EDA\n",
    "- Investigate extent of overfitting using learning curves\n",
    "- Perform cross-validated analysis\n",
    "- Plot ROC curve\n",
    "- Explore hypertuning for hyperparameters\n",
    "- Increase accuracy and measure precision, recall\n",
    "- Consider other kinds of analysis:\n",
    "  - NLP for text/sentiment analysis\n",
    "  - Other unsupervised methods such as clustering"
   ]
  }
 ],
 "metadata": {
  "kernelspec": {
   "display_name": "Python 3",
   "language": "python",
   "name": "python3"
  },
  "language_info": {
   "codemirror_mode": {
    "name": "ipython",
    "version": 3
   },
   "file_extension": ".py",
   "mimetype": "text/x-python",
   "name": "python",
   "nbconvert_exporter": "python",
   "pygments_lexer": "ipython3",
   "version": "3.6.9"
  }
 },
 "nbformat": 4,
 "nbformat_minor": 4
}
